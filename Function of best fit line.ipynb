{
 "cells": [
  {
   "cell_type": "code",
   "execution_count": 9,
   "metadata": {
    "collapsed": true
   },
   "outputs": [],
   "source": [
    "import random\n",
    "import math"
   ]
  },
  {
   "cell_type": "code",
   "execution_count": 33,
   "metadata": {},
   "outputs": [
    {
     "name": "stdout",
     "output_type": "stream",
     "text": [
      "[[0, 0], [0, 0], [0, 0], [0, 0], [0, 0], [0, 0], [0, 0], [0, 0], [0, 0], [0, 0], [0, 0], [0, 0], [0, 0], [0, 0], [0, 0], [0, 0], [0, 0], [0, 0], [0, 0], [0, 0]]\n"
     ]
    }
   ],
   "source": [
    "n=20\n",
    "m=2\n",
    "matr = [[0 for i in range(m)] for j in range(n)]\n",
    "print(matr)"
   ]
  },
  {
   "cell_type": "code",
   "execution_count": 54,
   "metadata": {},
   "outputs": [
    {
     "name": "stdout",
     "output_type": "stream",
     "text": [
      "[[-5, 6], [0, -5], [2, 4], [-7, -1], [-4, -5], [-1, 2], [2, 4], [3, -7], [6, 2], [-2, 4], [-4, 6], [-5, 3], [-6, -6], [-4, -2], [-6, -6], [1, 3], [3, 5], [-7, -2], [3, 4], [4, -14]]\n"
     ]
    }
   ],
   "source": [
    "x_sig=5\n",
    "y_sig=5\n",
    "for i in range(n):\n",
    "    for j in range(m):\n",
    "        x_pts=math.floor(random.normalvariate(0,x_sig))\n",
    "        y_pts=math.floor(random.normalvariate(0,y_sig))\n",
    "        if j==0:\n",
    "            matr[i][j]=x_pts\n",
    "        else:\n",
    "            matr[i][j]=y_pts\n",
    "print(matr)"
   ]
  },
  {
   "cell_type": "code",
   "execution_count": 55,
   "metadata": {},
   "outputs": [
    {
     "name": "stdout",
     "output_type": "stream",
     "text": [
      "-1.35 -0.25\n"
     ]
    }
   ],
   "source": [
    "x_total = 0\n",
    "y_total = 0\n",
    "for i in range(n):\n",
    "    x_total += matr[i][0]\n",
    "    y_total += matr[i][1]\n",
    "x_mean = x_total/n\n",
    "y_mean = y_total/n\n",
    "print(x_mean, y_mean)"
   ]
  },
  {
   "cell_type": "code",
   "execution_count": 81,
   "metadata": {},
   "outputs": [
    {
     "name": "stdout",
     "output_type": "stream",
     "text": [
      "0.05006932676012941\n"
     ]
    }
   ],
   "source": [
    "#assert slope of line is covariance(X,Y)/variance(X)\n",
    "#http://seismo.berkeley.edu/~kirchner/eps_120/Toolkits/Toolkit_10.pdf\n",
    "covar = 0\n",
    "var = 0\n",
    "for i in range(n):\n",
    "    covar += (matr[i][0] - x_mean)*(matr[i][1] - y_mean)\n",
    "    var += (matr[i][0] - x_mean)**2\n",
    "slope = covar/var\n",
    "print(slope)"
   ]
  },
  {
   "cell_type": "code",
   "execution_count": 58,
   "metadata": {},
   "outputs": [
    {
     "name": "stdout",
     "output_type": "stream",
     "text": [
      "-0.1824064088738253\n"
     ]
    }
   ],
   "source": [
    "intercept = y_mean - slope*x_mean\n",
    "print(intercept)"
   ]
  },
  {
   "cell_type": "code",
   "execution_count": 79,
   "metadata": {},
   "outputs": [
    {
     "name": "stdout",
     "output_type": "stream",
     "text": [
      "-0.5328916961947312\n"
     ]
    },
    {
     "data": {
      "image/png": "[encoded data removed]",
      "text/plain": [
       "<matplotlib.figure.Figure at 0x914fcc0>"
      ]
     },
     "metadata": {},
     "output_type": "display_data"
    }
   ],
   "source": [
    "import matplotlib.pyplot as plt\n",
    "\n",
    "x_vals = []\n",
    "y_vals = []\n",
    "for i in range(n):\n",
    "    x_vals.append(matr[i][0])\n",
    "    y_vals.append(matr[i][1])\n",
    "print(intercept+slope*-7)\n",
    "plt.scatter(x_vals,y_vals)\n",
    "plt.plot([-7, 7], [intercept+slope*-7, intercept+slope*7], 'r--')\n",
    "plt.show()"
   ]
  }
 ],
 "metadata": {
  "kernelspec": {
   "display_name": "Python 3",
   "language": "python",
   "name": "python3"
  },
  "language_info": {
   "codemirror_mode": {
    "name": "ipython",
    "version": 3
   },
   "file_extension": ".py",
   "mimetype": "text/x-python",
   "name": "python",
   "nbconvert_exporter": "python",
   "pygments_lexer": "ipython3",
   "version": "3.5.2"
  }
 },
 "nbformat": 4,
 "nbformat_minor": 2
}
